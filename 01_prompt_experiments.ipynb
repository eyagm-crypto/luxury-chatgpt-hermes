import openai

openai.api_key = "sk-..."

prompt = "What’s the difference between the Birkin 25 and 30?"

system_prompt = (
    "You are a Hermès stylist. Your tone is poetic, refined, and graceful. "
    "Your responses reflect timeless elegance."
)

response = openai.ChatCompletion.create(
    model="gpt-4",
    messages=[
        {"role": "system", "content": system_prompt},
        {"role": "user", "content": prompt}
    ]
)

print(response['choices'][0]['message']['content'])
